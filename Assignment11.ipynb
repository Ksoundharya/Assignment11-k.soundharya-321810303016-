{
 "cells": [
  {
   "cell_type": "markdown",
   "metadata": {},
   "source": [
    "### 1.python program to sum all the items in the list?"
   ]
  },
  {
   "cell_type": "code",
   "execution_count": 1,
   "metadata": {},
   "outputs": [
    {
     "name": "stdout",
     "output_type": "stream",
     "text": [
      "sum of all elements in the list: 50\n"
     ]
    }
   ],
   "source": [
    "total=0\n",
    "list=[1,5,7,9,8,20]\n",
    "for i in range(0,len(list)):\n",
    "    total=total+list[i]\n",
    "print(\"sum of all elements in the list:\",total)"
   ]
  },
  {
   "cell_type": "markdown",
   "metadata": {},
   "source": [
    "### 2.python program to multiply all elements in the list?"
   ]
  },
  {
   "cell_type": "code",
   "execution_count": 2,
   "metadata": {},
   "outputs": [
    {
     "name": "stdout",
     "output_type": "stream",
     "text": [
      "24\n"
     ]
    }
   ],
   "source": [
    "def multiply(mylist):    \n",
    "    result=1\n",
    "    for x in mylist:\n",
    "        result=result*x\n",
    "    return result\n",
    "list=[3,2,4]\n",
    "print(multiply(list))"
   ]
  },
  {
   "cell_type": "markdown",
   "metadata": {},
   "source": [
    "### 3.python program to find largest and smallest number in the list"
   ]
  },
  {
   "cell_type": "code",
   "execution_count": 3,
   "metadata": {},
   "outputs": [
    {
     "name": "stdout",
     "output_type": "stream",
     "text": [
      "the smallest number in the list is: 1\n",
      "the largest number in the list is: 100\n"
     ]
    }
   ],
   "source": [
    "list=[1,78,90,12,100]\n",
    "print(\"the smallest number in the list is:\",min(list))\n",
    "print(\"the largest number in the list is:\",max(list))"
   ]
  },
  {
   "cell_type": "markdown",
   "metadata": {},
   "source": [
    "### 4.python program to remove duplicates from a list?"
   ]
  },
  {
   "cell_type": "code",
   "execution_count": 5,
   "metadata": {},
   "outputs": [
    {
     "name": "stdout",
     "output_type": "stream",
     "text": [
      "Enter the number of elements in list:7\n",
      "Enter element1:4\n",
      "Enter element2:6\n",
      "Enter element3:7\n",
      "Enter element4:9\n",
      "Enter element5:3\n",
      "Enter element6:6\n",
      "Enter element7:9\n",
      "Non-duplicate items:\n",
      "[4, 6, 7, 9, 3]\n"
     ]
    }
   ],
   "source": [
    "a=[]\n",
    "n= int(input(\"Enter the number of elements in list:\"))\n",
    "for x in range(0,n):\n",
    "    element=int(input(\"Enter element\" + str(x+1) + \":\"))\n",
    "    a.append(element)\n",
    "b = set()\n",
    "unique = []\n",
    "for x in a:\n",
    "    if x not in b:\n",
    "        unique.append(x)\n",
    "        b.add(x)\n",
    "print(\"Non-duplicate items:\")\n",
    "print(unique)"
   ]
  },
  {
   "cell_type": "markdown",
   "metadata": {},
   "source": [
    "### 5.python program to check a list is empty or not?"
   ]
  },
  {
   "cell_type": "code",
   "execution_count": 6,
   "metadata": {},
   "outputs": [
    {
     "name": "stdout",
     "output_type": "stream",
     "text": [
      "empty list\n"
     ]
    }
   ],
   "source": [
    "def check(list):\n",
    "    if len(list)== 0:\n",
    "        return 0\n",
    "    else:\n",
    "        return 1\n",
    "list=[]\n",
    "if check(list):\n",
    "    print(\"the list is not empty\")\n",
    "else:\n",
    "    print(\"empty list\")"
   ]
  },
  {
   "cell_type": "markdown",
   "metadata": {},
   "source": [
    "### 6.python program to clone or copy a list?"
   ]
  },
  {
   "cell_type": "code",
   "execution_count": 10,
   "metadata": {},
   "outputs": [
    {
     "name": "stdout",
     "output_type": "stream",
     "text": [
      "[20, 3, 4, 5, 6, 8]\n",
      "[20, 3, 4, 5, 6, 8]\n"
     ]
    }
   ],
   "source": [
    "original = [20,3,4,5,6,8]\n",
    "new = (original)\n",
    "print(original)\n",
    "print(new)"
   ]
  },
  {
   "cell_type": "markdown",
   "metadata": {},
   "source": [
    "### 7.Write a Python program to print a specified list after removing the 0th,4th,5th elements?\n"
   ]
  },
  {
   "cell_type": "code",
   "execution_count": 11,
   "metadata": {},
   "outputs": [
    {
     "name": "stdout",
     "output_type": "stream",
     "text": [
      "['Green', 'White', 'Black']\n"
     ]
    }
   ],
   "source": [
    "l= ['Red', 'Green', 'White', 'Black', 'Pink', 'Yellow']\n",
    "l= [x for (i,x) in enumerate(l) if i not in (0,4,5)]\n",
    "print(l)"
   ]
  },
  {
   "cell_type": "markdown",
   "metadata": {},
   "source": [
    "### 8.Write a python program to print the numbers of a specified list after removing even number form it?"
   ]
  },
  {
   "cell_type": "code",
   "execution_count": 12,
   "metadata": {},
   "outputs": [
    {
     "name": "stdout",
     "output_type": "stream",
     "text": [
      "[1, 3, 5, 7, 9]\n"
     ]
    }
   ],
   "source": [
    "a = [0,1,2,3,4,5,6,7,8,9,10]\n",
    "a = [x for x in a if x%2!=0]\n",
    "print(a)"
   ]
  },
  {
   "cell_type": "markdown",
   "metadata": {},
   "source": [
    "### 9.Write a Python program to shuffle and print a specified list?"
   ]
  },
  {
   "cell_type": "code",
   "execution_count": 13,
   "metadata": {},
   "outputs": [
    {
     "name": "stdout",
     "output_type": "stream",
     "text": [
      "[99, 3, 1, 45, 56, 78]\n"
     ]
    }
   ],
   "source": [
    "from random import shuffle\n",
    "a = [1,3,45,56,78,99]\n",
    "shuffle(a)\n",
    "print(a)"
   ]
  },
  {
   "cell_type": "markdown",
   "metadata": {},
   "source": [
    "### 10.Write a Python program to get the difference between the two lists?"
   ]
  },
  {
   "cell_type": "code",
   "execution_count": 24,
   "metadata": {},
   "outputs": [
    {
     "name": "stdout",
     "output_type": "stream",
     "text": [
      "[6, 8, 9, 0]\n"
     ]
    }
   ],
   "source": [
    "a = [1,6,8,9,0]\n",
    "b = [6,8,5,9,0]\n",
    "\n",
    "c = []\n",
    "\n",
    "for number in a:\n",
    "    if number in b:\n",
    "        if number not in c:\n",
    "            c.append(number)\n",
    "print(c)            \n",
    "            "
   ]
  }
 ],
 "metadata": {
  "kernelspec": {
   "display_name": "Python 3",
   "language": "python",
   "name": "python3"
  },
  "language_info": {
   "codemirror_mode": {
    "name": "ipython",
    "version": 3
   },
   "file_extension": ".py",
   "mimetype": "text/x-python",
   "name": "python",
   "nbconvert_exporter": "python",
   "pygments_lexer": "ipython3",
   "version": "3.7.4"
  }
 },
 "nbformat": 4,
 "nbformat_minor": 2
}
